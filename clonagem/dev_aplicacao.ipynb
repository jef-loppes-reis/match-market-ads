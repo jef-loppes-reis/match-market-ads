{
 "cells": [
  {
   "cell_type": "code",
   "execution_count": 72,
   "metadata": {},
   "outputs": [],
   "source": [
    "from re import sub\n",
    "\n",
    "from ecomm import Postgres\n",
    "from pandas import DataFrame, isna\n",
    "from numpy import nan\n",
    "from tqdm import tqdm"
   ]
  },
  {
   "cell_type": "code",
   "execution_count": 73,
   "metadata": {},
   "outputs": [],
   "source": [
    "_df_aplic: DataFrame = DataFrame()\n",
    "_df_aplic_orig: DataFrame = DataFrame(columns=['num_orig', 'aplic'])"
   ]
  },
  {
   "cell_type": "code",
   "execution_count": 82,
   "metadata": {},
   "outputs": [],
   "source": [
    "# def read_apl():\n",
    "with Postgres() as db:\n",
    "    with open('./data/apl.sql', 'r', encoding='utf-8') as fp:\n",
    "        _df_aplic: DataFrame = db.query(fp.read())\n",
    "        _df_aplic['ano'] = None\n",
    "        _df_aplic_orig = db.query('''\n",
    "                SELECT original.nu_origina as num_orig,\n",
    "                    original.codpro,\n",
    "                    original.num_orig as original_ref\n",
    "                FROM \"D-1\".original\n",
    "            ''')"
   ]
  },
  {
   "cell_type": "code",
   "execution_count": 75,
   "metadata": {},
   "outputs": [
    {
     "name": "stderr",
     "output_type": "stream",
     "text": [
      "100%|██████████| 126059/126059 [00:04<00:00, 30623.01it/s]\n"
     ]
    }
   ],
   "source": [
    "# def criar_ano_inicial_ano_final():\n",
    "lista_temp = []\n",
    "for idx in tqdm(_df_aplic.index):\n",
    "    row = _df_aplic.loc[idx]\n",
    "    ano_i = row['ano_i']\n",
    "    ano_f = row['ano_f']\n",
    "    if not isna(ano_f) and isna(ano_i):\n",
    "        lista_temp.append(f'até {ano_f}')\n",
    "    elif not isna(ano_i) and isna(ano_f):\n",
    "        lista_temp.append(f'de {ano_i} em diante')\n",
    "    elif not isna(ano_i) and not isna(ano_f):\n",
    "        lista_temp.append(f'{ano_i} até {ano_f}')\n",
    "    elif isna(ano_i) and isna(ano_f):\n",
    "        lista_temp.append('(Confira o ano de veículo no campo de perguntas.)')\n",
    "    else:\n",
    "        lista_temp.append(nan)\n",
    "_df_aplic.loc[:, 'ano'] = lista_temp"
   ]
  },
  {
   "cell_type": "code",
   "execution_count": 76,
   "metadata": {},
   "outputs": [],
   "source": [
    "def get_aplicacao(original: str) -> str:\n",
    "    df_temp = _df_aplic.query(\n",
    "        'num_orig == @original'\n",
    "    ).drop(['ano_i', 'ano_f'], axis=1).reset_index(drop=True).copy()\n",
    "    string_base = ''\n",
    "    for idx in df_temp.index:\n",
    "        aplic = ''\n",
    "        for elemento in df_temp.iloc[idx, 1:]:\n",
    "            if elemento is None or elemento == '':\n",
    "                continue\n",
    "            aplic += (' ' + elemento)\n",
    "        string_base += f'• {aplic}\\n' if len(df_temp) > 1 else f'• {aplic}'\n",
    "    return string_base"
   ]
  },
  {
   "cell_type": "code",
   "execution_count": 90,
   "metadata": {},
   "outputs": [],
   "source": [
    "def lista_originais(original: str):\n",
    "    lista_oem = _df_aplic_orig.query('num_orig == @oem').original_ref.to_list()\n",
    "    return ', '.join(lista_oem)"
   ]
  },
  {
   "cell_type": "code",
   "execution_count": 89,
   "metadata": {},
   "outputs": [
    {
     "name": "stdout",
     "output_type": "stream",
     "text": [
      "ZM996, Z70996\n"
     ]
    }
   ],
   "source": [
    "lista_originais('M4LT60435')"
   ]
  },
  {
   "cell_type": "code",
   "execution_count": 77,
   "metadata": {},
   "outputs": [],
   "source": [
    "def criar_descricao(\n",
    "        codpro: str,\n",
    "        aplicacao_veiculos: str,\n",
    "        titulo: str,\n",
    "        marca: str,\n",
    "        num_fab: str,\n",
    "        oems: list[str],\n",
    "        multiplo_venda: int\n",
    "    ) -> str:\n",
    "\n",
    "    veiculos = f'\\nSERVE NOS SEGUINTES VEÍCULOS:\\n(Em caso de dúvidas, perguntar no campo de perguntas.)\\n\\n{aplicacao_veiculos}\\n\\n' \\\n",
    "        if not isna(aplicacao_veiculos) else '\\n(Em caso de dúvidas, perguntar no campo de perguntas.)\\n\\n'\n",
    "    descricao = \\\n",
    "f'''{titulo}\n",
    "{veiculos}\n",
    "CARACTERÍSTICAS DO PRODUTO:\n",
    "• Marca: {marca}\n",
    "• Código da peça: {num_fab}\n",
    "• Código de referência: {', '.join(oems.split(','))}\n",
    "\n",
    "CONTEÚDO DA EMBALAGEM:\n",
    "• {multiplo_venda} {'Unidade' if multiplo_venda == 1 else 'Unidades'}\n",
    "\n",
    "OBSERVAÇÃO:\n",
    "• A Responsabilidade de confirmar a aplicação no veículo é exclusivamente do proprietário e do mecânico, uma vez que não temos acesso pessoal e visual da peça instalada.\n",
    "• Nossos produtos tem garantia de fábrica de 3 meses. Não cobrimos má instalação ou mau uso do produto, recomendamos que a instalação seja feita por um profissional especializado.\n",
    "• As compras realizadas em nome de Pessoa Jurídica podem estar sujeitas à cobrança de ICMS e DIFAL, conforme Protocolo ICMS 41, de 4 de Abril de 2008. Caso você tenha dúvidas sobre o percentual a ser aplicado, consulte a Cláusula Segunda, §1° do referido Protocolo.\n",
    "• Para devolução por Defeito de Fabricação o produto deve acompanhar a Nota Fiscal de compra para sua identificação. Sem ela (Nota Fiscal), não é possível identificar o solicitante da Garantia\n",
    "• O produto deve ser devolvido nas mesmas condições em que foi enviado (na embalagem original, sem sinais de utilização para a perfeita condição de uso do próximo comprador).\n",
    "• Caixa (s) e Imagem (s) Ilustrativa (s), meramente comercial para efeito estético e informativo de marca e modelo do anúncio.\n",
    "\n",
    "NÚMERO INTERNO:\n",
    "• {codpro}'''\n",
    "    return descricao"
   ]
  },
  {
   "cell_type": "code",
   "execution_count": 81,
   "metadata": {},
   "outputs": [
    {
     "data": {
      "text/plain": [
       "''"
      ]
     },
     "execution_count": 81,
     "metadata": {},
     "output_type": "execute_result"
    }
   ],
   "source": [
    "get_aplicacao(original='M4LT60435')"
   ]
  },
  {
   "cell_type": "code",
   "execution_count": 79,
   "metadata": {},
   "outputs": [
    {
     "data": {
      "text/html": [
       "<div>\n",
       "<style scoped>\n",
       "    .dataframe tbody tr th:only-of-type {\n",
       "        vertical-align: middle;\n",
       "    }\n",
       "\n",
       "    .dataframe tbody tr th {\n",
       "        vertical-align: top;\n",
       "    }\n",
       "\n",
       "    .dataframe thead th {\n",
       "        text-align: right;\n",
       "    }\n",
       "</style>\n",
       "<table border=\"1\" class=\"dataframe\">\n",
       "  <thead>\n",
       "    <tr style=\"text-align: right;\">\n",
       "      <th></th>\n",
       "      <th>num_orig</th>\n",
       "      <th>aplic</th>\n",
       "    </tr>\n",
       "  </thead>\n",
       "  <tbody>\n",
       "  </tbody>\n",
       "</table>\n",
       "</div>"
      ],
      "text/plain": [
       "Empty DataFrame\n",
       "Columns: [num_orig, aplic]\n",
       "Index: []"
      ]
     },
     "execution_count": 79,
     "metadata": {},
     "output_type": "execute_result"
    }
   ],
   "source": [
    "_df_aplic_orig.query('num_orig == \"M4LT60435\"')"
   ]
  },
  {
   "cell_type": "code",
   "execution_count": 80,
   "metadata": {},
   "outputs": [
    {
     "ename": "TypeError",
     "evalue": "criar_descricao() missing 6 required positional arguments: 'aplicacao_veiculos', 'titulo', 'marca', 'num_fab', 'oems', and 'multiplo_venda'",
     "output_type": "error",
     "traceback": [
      "\u001b[1;31m---------------------------------------------------------------------------\u001b[0m",
      "\u001b[1;31mTypeError\u001b[0m                                 Traceback (most recent call last)",
      "Cell \u001b[1;32mIn[80], line 1\u001b[0m\n\u001b[1;32m----> 1\u001b[0m \u001b[43mcriar_descricao\u001b[49m\u001b[43m(\u001b[49m\n\u001b[0;32m      2\u001b[0m \u001b[43m    \u001b[49m\u001b[43mcodpro\u001b[49m\u001b[38;5;241;43m=\u001b[39;49m\u001b[38;5;124;43m'\u001b[39;49m\u001b[38;5;124;43m087449\u001b[39;49m\u001b[38;5;124;43m'\u001b[39;49m\u001b[43m,\u001b[49m\n\u001b[0;32m      3\u001b[0m \u001b[43m    \u001b[49m\n\u001b[0;32m      4\u001b[0m \u001b[43m)\u001b[49m\n",
      "\u001b[1;31mTypeError\u001b[0m: criar_descricao() missing 6 required positional arguments: 'aplicacao_veiculos', 'titulo', 'marca', 'num_fab', 'oems', and 'multiplo_venda'"
     ]
    }
   ],
   "source": [
    "criar_descricao(\n",
    "    codpro='087449',\n",
    "    aplicacao_veiculos=get_aplicacao(original='M4LT60435'),\n",
    "    titulo='',\n",
    "    marca=\n",
    ")"
   ]
  }
 ],
 "metadata": {
  "kernelspec": {
   "display_name": ".venv",
   "language": "python",
   "name": "python3"
  },
  "language_info": {
   "codemirror_mode": {
    "name": "ipython",
    "version": 3
   },
   "file_extension": ".py",
   "mimetype": "text/x-python",
   "name": "python",
   "nbconvert_exporter": "python",
   "pygments_lexer": "ipython3",
   "version": "3.12.4"
  }
 },
 "nbformat": 4,
 "nbformat_minor": 2
}
