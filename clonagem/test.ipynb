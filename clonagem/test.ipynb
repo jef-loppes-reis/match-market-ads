{
 "cells": [
  {
   "cell_type": "code",
   "execution_count": 1,
   "metadata": {},
   "outputs": [],
   "source": [
    "from json import load\n",
    "\n",
    "from ecomm import MLInterface\n",
    "from httpx import Response\n",
    "from pandas import read_excel, read_feather, merge, DataFrame\n",
    "from rich import print as pprint\n",
    "from clone import Clanador"
   ]
  },
  {
   "cell_type": "code",
   "execution_count": 2,
   "metadata": {},
   "outputs": [],
   "source": [
    "from pandas import options\n",
    "options.display.max_columns = None"
   ]
  },
  {
   "cell_type": "code",
   "execution_count": 3,
   "metadata": {},
   "outputs": [],
   "source": [
    "def get_number_photo(lista_name_photo: str) -> list[str]:\n",
    "    return [name.split('_')[-1:][0].replace('.jpg', '') for name in lista_name_photo]"
   ]
  },
  {
   "cell_type": "code",
   "execution_count": 4,
   "metadata": {},
   "outputs": [],
   "source": [
    "headers = MLInterface(1)._headers()"
   ]
  },
  {
   "cell_type": "code",
   "execution_count": 5,
   "metadata": {},
   "outputs": [],
   "source": [
    "with open('./data/sale_terms.json', 'r', encoding='utf-8') as fp:\n",
    "    sale_terms = load(fp)"
   ]
  },
  {
   "cell_type": "code",
   "execution_count": 7,
   "metadata": {},
   "outputs": [],
   "source": [
    "df_photos: DataFrame = read_feather(\n",
    "    '../data/conferencia_fotos_monroe.feather')"
   ]
  },
  {
   "cell_type": "code",
   "execution_count": 8,
   "metadata": {},
   "outputs": [],
   "source": [
    "df_photos = df_photos.query('~mlb.isna()').reset_index(drop=True).copy()"
   ]
  },
  {
   "cell_type": "code",
   "execution_count": 9,
   "metadata": {},
   "outputs": [],
   "source": [
    "df_photos['number_photo'] = get_number_photo(\n",
    "    df_photos.path_file_photo.fillna('0'))"
   ]
  },
  {
   "cell_type": "code",
   "execution_count": 14,
   "metadata": {},
   "outputs": [],
   "source": [
    "df_clona_genuino = read_excel('../data/monroe.xlsx', dtype=str)"
   ]
  },
  {
   "cell_type": "code",
   "execution_count": 15,
   "metadata": {},
   "outputs": [],
   "source": [
    "df_clona_genuino = df_clona_genuino.set_axis(\n",
    "    df_clona_genuino.columns.str.lower(), axis=1).copy()"
   ]
  },
  {
   "cell_type": "code",
   "execution_count": 17,
   "metadata": {},
   "outputs": [],
   "source": [
    "df_clona_genuino.loc[:, 'sku_certo'] = df_clona_genuino.sku_certo.str.strip()"
   ]
  },
  {
   "cell_type": "code",
   "execution_count": 18,
   "metadata": {},
   "outputs": [],
   "source": [
    "df_clona_copy: DataFrame = merge(\n",
    "    df_clona_genuino,\n",
    "    df_photos,\n",
    "    on='mlb',\n",
    "    how='left'\n",
    ")"
   ]
  },
  {
   "cell_type": "code",
   "execution_count": 19,
   "metadata": {},
   "outputs": [],
   "source": [
    "df_clona_copy = df_clona_copy.query(\n",
    "    'clona == \"1\" and (verifeid_photo and pegar_foto)').reset_index(drop=True).copy()"
   ]
  },
  {
   "cell_type": "code",
   "execution_count": 20,
   "metadata": {},
   "outputs": [],
   "source": [
    "clonagem = Clanador(\n",
    "    headers=headers,\n",
    "    sales_terms=sale_terms\n",
    ")"
   ]
  },
  {
   "cell_type": "code",
   "execution_count": 21,
   "metadata": {},
   "outputs": [],
   "source": [
    "df_clona_copy = df_clona_copy.sort_values(['mlb', 'number_photo']).reset_index(drop=True)"
   ]
  },
  {
   "cell_type": "code",
   "execution_count": 22,
   "metadata": {},
   "outputs": [],
   "source": [
    "clonagem.read_product_siac()"
   ]
  },
  {
   "cell_type": "code",
   "execution_count": 23,
   "metadata": {},
   "outputs": [
    {
     "data": {
      "text/html": [
       "<div>\n",
       "<style scoped>\n",
       "    .dataframe tbody tr th:only-of-type {\n",
       "        vertical-align: middle;\n",
       "    }\n",
       "\n",
       "    .dataframe tbody tr th {\n",
       "        vertical-align: top;\n",
       "    }\n",
       "\n",
       "    .dataframe thead th {\n",
       "        text-align: right;\n",
       "    }\n",
       "</style>\n",
       "<table border=\"1\" class=\"dataframe\">\n",
       "  <thead>\n",
       "    <tr style=\"text-align: right;\">\n",
       "      <th></th>\n",
       "      <th>mlb</th>\n",
       "      <th>gtin_ml</th>\n",
       "      <th>gtin_siac</th>\n",
       "      <th>gtin_fuzzy</th>\n",
       "      <th>mpn_ml</th>\n",
       "      <th>mpn_siac</th>\n",
       "      <th>mpn_fuzzy</th>\n",
       "      <th>sku_ml</th>\n",
       "      <th>sku_siac</th>\n",
       "      <th>sku_certo</th>\n",
       "      <th>sku_fuzzy</th>\n",
       "      <th>numero_original_ml</th>\n",
       "      <th>numero_original_siac</th>\n",
       "      <th>numero_original_fuzzy</th>\n",
       "      <th>marca_ml</th>\n",
       "      <th>marca_siac</th>\n",
       "      <th>marca_fuzzy</th>\n",
       "      <th>lista_url_anuncios</th>\n",
       "      <th>lista_mlb</th>\n",
       "      <th>soma_fuzzy</th>\n",
       "      <th>clona</th>\n",
       "      <th>verifeid_photo</th>\n",
       "      <th>pegar_foto</th>\n",
       "      <th>path_file_photo</th>\n",
       "      <th>number_photo</th>\n",
       "    </tr>\n",
       "  </thead>\n",
       "  <tbody>\n",
       "    <tr>\n",
       "      <th>0</th>\n",
       "      <td>MLB1107990585</td>\n",
       "      <td>4011442606862</td>\n",
       "      <td>4047026263862</td>\n",
       "      <td>69</td>\n",
       "      <td>6204</td>\n",
       "      <td>62046</td>\n",
       "      <td>89</td>\n",
       "      <td>LT60435  LT60436</td>\n",
       "      <td>LT60456</td>\n",
       "      <td>K_087449_087450</td>\n",
       "      <td>61</td>\n",
       "      <td>RUV925008RUV925009</td>\n",
       "      <td>9295080059</td>\n",
       "      <td>57</td>\n",
       "      <td>MONROE AXIOS</td>\n",
       "      <td>MONROE</td>\n",
       "      <td>67</td>\n",
       "      <td>https://produto.mercadolivre.com.br/MLB-110799...</td>\n",
       "      <td>NaN</td>\n",
       "      <td>343</td>\n",
       "      <td>1</td>\n",
       "      <td>True</td>\n",
       "      <td>True</td>\n",
       "      <td>MLB1107990585_PHOTOID838075-MLB49782381300_042...</td>\n",
       "      <td>0</td>\n",
       "    </tr>\n",
       "  </tbody>\n",
       "</table>\n",
       "</div>"
      ],
      "text/plain": [
       "             mlb        gtin_ml      gtin_siac gtin_fuzzy mpn_ml mpn_siac  \\\n",
       "0  MLB1107990585  4011442606862  4047026263862         69   6204    62046   \n",
       "\n",
       "  mpn_fuzzy            sku_ml sku_siac        sku_certo sku_fuzzy  \\\n",
       "0        89  LT60435  LT60436  LT60456  K_087449_087450        61   \n",
       "\n",
       "   numero_original_ml numero_original_siac numero_original_fuzzy  \\\n",
       "0  RUV925008RUV925009           9295080059                    57   \n",
       "\n",
       "       marca_ml marca_siac marca_fuzzy  \\\n",
       "0  MONROE AXIOS     MONROE          67   \n",
       "\n",
       "                                  lista_url_anuncios lista_mlb soma_fuzzy  \\\n",
       "0  https://produto.mercadolivre.com.br/MLB-110799...       NaN        343   \n",
       "\n",
       "  clona verifeid_photo pegar_foto  \\\n",
       "0     1           True       True   \n",
       "\n",
       "                                     path_file_photo number_photo  \n",
       "0  MLB1107990585_PHOTOID838075-MLB49782381300_042...            0  "
      ]
     },
     "metadata": {},
     "output_type": "display_data"
    }
   ],
   "source": [
    "for mlb in df_clona_copy.mlb.unique():\n",
    "    row: DataFrame = df_clona_copy.query('mlb == @mlb')\n",
    "    sku: str = row['sku_certo'].unique()[0]\n",
    "    codpro: str = clonagem.convert_sku_to_codpro(\n",
    "        sku=sku\n",
    "    )[0]\n",
    "    display(row)\n",
    "\n",
    "    clonagem.df_siac_filter(\n",
    "        codpro_produto=codpro\n",
    "    )\n",
    "    break"
   ]
  },
  {
   "cell_type": "code",
   "execution_count": 24,
   "metadata": {},
   "outputs": [],
   "source": [
    "mlb_info: tuple[Response, Response] = clonagem.mlb_infos(\n",
    "    item_id_ml=row.loc[0, 'mlb']\n",
    ")"
   ]
  },
  {
   "cell_type": "code",
   "execution_count": 25,
   "metadata": {},
   "outputs": [],
   "source": [
    "caminho_fotos = '../photo_validation/out_files_photos/%s'"
   ]
  },
  {
   "cell_type": "code",
   "execution_count": 27,
   "metadata": {},
   "outputs": [
    {
     "data": {
      "text/plain": [
       "['../photo_validation/out_files_photos/monroe/MLB1107990585_PHOTOID838075-MLB49782381300_042022_0.jpg']"
      ]
     },
     "execution_count": 27,
     "metadata": {},
     "output_type": "execute_result"
    }
   ],
   "source": [
    "[caminho_fotos%f'monroe/{name_photo}' for name_photo in row['path_file_photo']]"
   ]
  },
  {
   "cell_type": "code",
   "execution_count": 28,
   "metadata": {},
   "outputs": [
    {
     "data": {
      "text/html": [
       "<pre style=\"white-space:pre;overflow-x:auto;line-height:normal;font-family:Menlo,'DejaVu Sans Mono',consolas,'Courier New',monospace\"><span style=\"font-weight: bold\">{</span>\n",
       "    <span style=\"color: #008000; text-decoration-color: #008000\">'title'</span>: <span style=\"color: #800080; text-decoration-color: #800080; font-style: italic\">None</span>,\n",
       "    <span style=\"color: #008000; text-decoration-color: #008000\">'category_id'</span>: <span style=\"color: #800080; text-decoration-color: #800080; font-style: italic\">None</span>,\n",
       "    <span style=\"color: #008000; text-decoration-color: #008000\">'official_store_id'</span>: <span style=\"color: #800080; text-decoration-color: #800080; font-style: italic\">None</span>,\n",
       "    <span style=\"color: #008000; text-decoration-color: #008000\">'price'</span>: <span style=\"color: #800080; text-decoration-color: #800080; font-style: italic\">None</span>,\n",
       "    <span style=\"color: #008000; text-decoration-color: #008000\">'available_quantity'</span>: <span style=\"color: #800080; text-decoration-color: #800080; font-style: italic\">None</span>,\n",
       "    <span style=\"color: #008000; text-decoration-color: #008000\">'currency_id'</span>: <span style=\"color: #008000; text-decoration-color: #008000\">'BRL'</span>,\n",
       "    <span style=\"color: #008000; text-decoration-color: #008000\">'buying_mode'</span>: <span style=\"color: #008000; text-decoration-color: #008000\">'buy_it_now'</span>,\n",
       "    <span style=\"color: #008000; text-decoration-color: #008000\">'condition'</span>: <span style=\"color: #008000; text-decoration-color: #008000\">'new'</span>,\n",
       "    <span style=\"color: #008000; text-decoration-color: #008000\">'listing_type_id'</span>: <span style=\"color: #800080; text-decoration-color: #800080; font-style: italic\">None</span>,\n",
       "    <span style=\"color: #008000; text-decoration-color: #008000\">'sale_terms'</span>: <span style=\"color: #800080; text-decoration-color: #800080; font-style: italic\">None</span>,\n",
       "    <span style=\"color: #008000; text-decoration-color: #008000\">'pictures'</span>: <span style=\"color: #800080; text-decoration-color: #800080; font-style: italic\">None</span>,\n",
       "    <span style=\"color: #008000; text-decoration-color: #008000\">'attributes'</span>: <span style=\"color: #800080; text-decoration-color: #800080; font-style: italic\">None</span>,\n",
       "    <span style=\"color: #008000; text-decoration-color: #008000\">'variations'</span>: <span style=\"color: #800080; text-decoration-color: #800080; font-style: italic\">None</span>,\n",
       "    <span style=\"color: #008000; text-decoration-color: #008000\">'video_id'</span>: <span style=\"color: #008000; text-decoration-color: #008000\">'e4lB8zcfDt8'</span>\n",
       "<span style=\"font-weight: bold\">}</span>\n",
       "</pre>\n"
      ],
      "text/plain": [
       "\u001b[1m{\u001b[0m\n",
       "    \u001b[32m'title'\u001b[0m: \u001b[3;35mNone\u001b[0m,\n",
       "    \u001b[32m'category_id'\u001b[0m: \u001b[3;35mNone\u001b[0m,\n",
       "    \u001b[32m'official_store_id'\u001b[0m: \u001b[3;35mNone\u001b[0m,\n",
       "    \u001b[32m'price'\u001b[0m: \u001b[3;35mNone\u001b[0m,\n",
       "    \u001b[32m'available_quantity'\u001b[0m: \u001b[3;35mNone\u001b[0m,\n",
       "    \u001b[32m'currency_id'\u001b[0m: \u001b[32m'BRL'\u001b[0m,\n",
       "    \u001b[32m'buying_mode'\u001b[0m: \u001b[32m'buy_it_now'\u001b[0m,\n",
       "    \u001b[32m'condition'\u001b[0m: \u001b[32m'new'\u001b[0m,\n",
       "    \u001b[32m'listing_type_id'\u001b[0m: \u001b[3;35mNone\u001b[0m,\n",
       "    \u001b[32m'sale_terms'\u001b[0m: \u001b[3;35mNone\u001b[0m,\n",
       "    \u001b[32m'pictures'\u001b[0m: \u001b[3;35mNone\u001b[0m,\n",
       "    \u001b[32m'attributes'\u001b[0m: \u001b[3;35mNone\u001b[0m,\n",
       "    \u001b[32m'variations'\u001b[0m: \u001b[3;35mNone\u001b[0m,\n",
       "    \u001b[32m'video_id'\u001b[0m: \u001b[32m'e4lB8zcfDt8'\u001b[0m\n",
       "\u001b[1m}\u001b[0m\n"
      ]
     },
     "metadata": {},
     "output_type": "display_data"
    },
    {
     "data": {
      "text/html": [
       "<pre style=\"white-space:pre;overflow-x:auto;line-height:normal;font-family:Menlo,'DejaVu Sans Mono',consolas,'Courier New',monospace\"><span style=\"font-weight: bold\">&lt;</span><span style=\"color: #ff00ff; text-decoration-color: #ff00ff; font-weight: bold\">Response</span><span style=\"color: #000000; text-decoration-color: #000000\"> </span><span style=\"color: #000000; text-decoration-color: #000000; font-weight: bold\">[</span><span style=\"color: #008080; text-decoration-color: #008080; font-weight: bold\">200</span><span style=\"color: #000000; text-decoration-color: #000000\"> OK</span><span style=\"color: #000000; text-decoration-color: #000000; font-weight: bold\">]</span><span style=\"font-weight: bold\">&gt;</span>\n",
       "</pre>\n"
      ],
      "text/plain": [
       "\u001b[1m<\u001b[0m\u001b[1;95mResponse\u001b[0m\u001b[39m \u001b[0m\u001b[1;39m[\u001b[0m\u001b[1;36m200\u001b[0m\u001b[39m OK\u001b[0m\u001b[1;39m]\u001b[0m\u001b[1m>\u001b[0m\n"
      ]
     },
     "metadata": {},
     "output_type": "display_data"
    },
    {
     "name": "stderr",
     "output_type": "stream",
     "text": [
      "c:\\Users\\jeferson.lopes\\Documents\\wk-python\\match-market-ads\\clonagem\\clone.py:135: FutureWarning: Possible nested set at position 1\n",
      "  'value_name': sub(\n"
     ]
    }
   ],
   "source": [
    "clonagem.gerar_payload_cadastro(\n",
    "    list_path_img=[\n",
    "        caminho_fotos % f'monroe/{name_photo}' for name_photo in row['path_file_photo']],\n",
    "    sku=sku\n",
    ")"
   ]
  },
  {
   "cell_type": "code",
   "execution_count": 30,
   "metadata": {},
   "outputs": [],
   "source": [
    "corpo_cadastro: dict = clonagem.corpo_clonagem"
   ]
  },
  {
   "cell_type": "code",
   "execution_count": 31,
   "metadata": {},
   "outputs": [
    {
     "data": {
      "text/html": [
       "<pre style=\"white-space:pre;overflow-x:auto;line-height:normal;font-family:Menlo,'DejaVu Sans Mono',consolas,'Courier New',monospace\"><span style=\"font-weight: bold\">{</span>\n",
       "    <span style=\"color: #008000; text-decoration-color: #008000\">'title'</span>: <span style=\"color: #008000; text-decoration-color: #008000\">'Par Bieleta Estabilizadora Dianteira Bmw 318i 320i 05/11 E90'</span>,\n",
       "    <span style=\"color: #008000; text-decoration-color: #008000\">'category_id'</span>: <span style=\"color: #008000; text-decoration-color: #008000\">'MLB193476'</span>,\n",
       "    <span style=\"color: #008000; text-decoration-color: #008000\">'official_store_id'</span>: <span style=\"color: #008080; text-decoration-color: #008080; font-weight: bold\">5329</span>,\n",
       "    <span style=\"color: #008000; text-decoration-color: #008000\">'price'</span>: <span style=\"color: #008080; text-decoration-color: #008080; font-weight: bold\">51.92</span>,\n",
       "    <span style=\"color: #008000; text-decoration-color: #008000\">'available_quantity'</span>: <span style=\"color: #008080; text-decoration-color: #008080; font-weight: bold\">0</span>,\n",
       "    <span style=\"color: #008000; text-decoration-color: #008000\">'currency_id'</span>: <span style=\"color: #008000; text-decoration-color: #008000\">'BRL'</span>,\n",
       "    <span style=\"color: #008000; text-decoration-color: #008000\">'buying_mode'</span>: <span style=\"color: #008000; text-decoration-color: #008000\">'buy_it_now'</span>,\n",
       "    <span style=\"color: #008000; text-decoration-color: #008000\">'condition'</span>: <span style=\"color: #008000; text-decoration-color: #008000\">'new'</span>,\n",
       "    <span style=\"color: #008000; text-decoration-color: #008000\">'listing_type_id'</span>: <span style=\"color: #008000; text-decoration-color: #008000\">'gold_special'</span>,\n",
       "    <span style=\"color: #008000; text-decoration-color: #008000\">'sale_terms'</span>: <span style=\"font-weight: bold\">[</span>\n",
       "        <span style=\"font-weight: bold\">{</span>\n",
       "            <span style=\"color: #008000; text-decoration-color: #008000\">'id'</span>: <span style=\"color: #008000; text-decoration-color: #008000\">'WARRANTY_TYPE'</span>,\n",
       "            <span style=\"color: #008000; text-decoration-color: #008000\">'name'</span>: <span style=\"color: #008000; text-decoration-color: #008000\">'Tipo de garantia'</span>,\n",
       "            <span style=\"color: #008000; text-decoration-color: #008000\">'value_id'</span>: <span style=\"color: #008000; text-decoration-color: #008000\">'2230279'</span>,\n",
       "            <span style=\"color: #008000; text-decoration-color: #008000\">'value_name'</span>: <span style=\"color: #008000; text-decoration-color: #008000\">'Garantia de fábrica'</span>,\n",
       "            <span style=\"color: #008000; text-decoration-color: #008000\">'value_struct'</span>: <span style=\"color: #800080; text-decoration-color: #800080; font-style: italic\">None</span>,\n",
       "            <span style=\"color: #008000; text-decoration-color: #008000\">'values'</span>: <span style=\"font-weight: bold\">[{</span><span style=\"color: #008000; text-decoration-color: #008000\">'id'</span>: <span style=\"color: #008000; text-decoration-color: #008000\">'2230279'</span>, <span style=\"color: #008000; text-decoration-color: #008000\">'name'</span>: <span style=\"color: #008000; text-decoration-color: #008000\">'Garantia de fábrica'</span>, <span style=\"color: #008000; text-decoration-color: #008000\">'struct'</span>: <span style=\"color: #800080; text-decoration-color: #800080; font-style: italic\">None</span><span style=\"font-weight: bold\">}]</span>,\n",
       "            <span style=\"color: #008000; text-decoration-color: #008000\">'value_type'</span>: <span style=\"color: #008000; text-decoration-color: #008000\">'list'</span>\n",
       "        <span style=\"font-weight: bold\">}</span>,\n",
       "        <span style=\"font-weight: bold\">{</span>\n",
       "            <span style=\"color: #008000; text-decoration-color: #008000\">'id'</span>: <span style=\"color: #008000; text-decoration-color: #008000\">'WARRANTY_TIME'</span>,\n",
       "            <span style=\"color: #008000; text-decoration-color: #008000\">'name'</span>: <span style=\"color: #008000; text-decoration-color: #008000\">'Tempo de garantia'</span>,\n",
       "            <span style=\"color: #008000; text-decoration-color: #008000\">'value_id'</span>: <span style=\"color: #800080; text-decoration-color: #800080; font-style: italic\">None</span>,\n",
       "            <span style=\"color: #008000; text-decoration-color: #008000\">'value_name'</span>: <span style=\"color: #008000; text-decoration-color: #008000\">'3 meses'</span>,\n",
       "            <span style=\"color: #008000; text-decoration-color: #008000\">'value_struct'</span>: <span style=\"font-weight: bold\">{</span><span style=\"color: #008000; text-decoration-color: #008000\">'number'</span>: <span style=\"color: #008080; text-decoration-color: #008080; font-weight: bold\">3</span>, <span style=\"color: #008000; text-decoration-color: #008000\">'unit'</span>: <span style=\"color: #008000; text-decoration-color: #008000\">'meses'</span><span style=\"font-weight: bold\">}</span>,\n",
       "            <span style=\"color: #008000; text-decoration-color: #008000\">'values'</span>: <span style=\"font-weight: bold\">[{</span><span style=\"color: #008000; text-decoration-color: #008000\">'id'</span>: <span style=\"color: #800080; text-decoration-color: #800080; font-style: italic\">None</span>, <span style=\"color: #008000; text-decoration-color: #008000\">'name'</span>: <span style=\"color: #008000; text-decoration-color: #008000\">'3 meses'</span>, <span style=\"color: #008000; text-decoration-color: #008000\">'struct'</span>: <span style=\"font-weight: bold\">{</span><span style=\"color: #008000; text-decoration-color: #008000\">'number'</span>: <span style=\"color: #008080; text-decoration-color: #008080; font-weight: bold\">3</span>, <span style=\"color: #008000; text-decoration-color: #008000\">'unit'</span>: <span style=\"color: #008000; text-decoration-color: #008000\">'meses'</span><span style=\"font-weight: bold\">}}]</span>,\n",
       "            <span style=\"color: #008000; text-decoration-color: #008000\">'value_type'</span>: <span style=\"color: #008000; text-decoration-color: #008000\">'number_unit'</span>\n",
       "        <span style=\"font-weight: bold\">}</span>\n",
       "    <span style=\"font-weight: bold\">]</span>,\n",
       "    <span style=\"color: #008000; text-decoration-color: #008000\">'pictures'</span>: <span style=\"font-weight: bold\">[{</span><span style=\"color: #008000; text-decoration-color: #008000\">'id'</span>: <span style=\"color: #008000; text-decoration-color: #008000\">'890247-MLB77706886874_072024'</span><span style=\"font-weight: bold\">}]</span>,\n",
       "    <span style=\"color: #008000; text-decoration-color: #008000\">'attributes'</span>: <span style=\"font-weight: bold\">[</span>\n",
       "        <span style=\"font-weight: bold\">{</span><span style=\"color: #008000; text-decoration-color: #008000\">'id'</span>: <span style=\"color: #008000; text-decoration-color: #008000\">'BRAND'</span>, <span style=\"color: #008000; text-decoration-color: #008000\">'name'</span>: <span style=\"color: #008000; text-decoration-color: #008000\">'Marca'</span>, <span style=\"color: #008000; text-decoration-color: #008000\">'value_name'</span>: <span style=\"color: #008000; text-decoration-color: #008000\">'AXIOS'</span><span style=\"font-weight: bold\">}</span>,\n",
       "        <span style=\"font-weight: bold\">{</span><span style=\"color: #008000; text-decoration-color: #008000\">'id'</span>: <span style=\"color: #008000; text-decoration-color: #008000\">'GTIN'</span>, <span style=\"color: #008000; text-decoration-color: #008000\">'name'</span>: <span style=\"color: #008000; text-decoration-color: #008000\">'Código universal de produto'</span>, <span style=\"color: #008000; text-decoration-color: #008000\">'value_name'</span>: <span style=\"color: #800080; text-decoration-color: #800080; font-style: italic\">None</span><span style=\"font-weight: bold\">}</span>,\n",
       "        <span style=\"font-weight: bold\">{</span>\n",
       "            <span style=\"color: #008000; text-decoration-color: #008000\">'id'</span>: <span style=\"color: #008000; text-decoration-color: #008000\">'INMETRO_CERTIFICATION_REGISTRATION_NUMBER'</span>,\n",
       "            <span style=\"color: #008000; text-decoration-color: #008000\">'name'</span>: <span style=\"color: #008000; text-decoration-color: #008000\">'Número de registro/certificação INMETRO'</span>,\n",
       "            <span style=\"color: #008000; text-decoration-color: #008000\">'value_id'</span>: <span style=\"color: #800080; text-decoration-color: #800080; font-style: italic\">None</span>,\n",
       "            <span style=\"color: #008000; text-decoration-color: #008000\">'value_name'</span>: <span style=\"color: #008000; text-decoration-color: #008000\">'LT60435 / LT60436'</span>,\n",
       "            <span style=\"color: #008000; text-decoration-color: #008000\">'values'</span>: <span style=\"font-weight: bold\">[{</span><span style=\"color: #008000; text-decoration-color: #008000\">'id'</span>: <span style=\"color: #800080; text-decoration-color: #800080; font-style: italic\">None</span>, <span style=\"color: #008000; text-decoration-color: #008000\">'name'</span>: <span style=\"color: #008000; text-decoration-color: #008000\">'LT60435 / LT60436'</span>, <span style=\"color: #008000; text-decoration-color: #008000\">'struct'</span>: <span style=\"color: #800080; text-decoration-color: #800080; font-style: italic\">None</span><span style=\"font-weight: bold\">}]</span>,\n",
       "            <span style=\"color: #008000; text-decoration-color: #008000\">'value_type'</span>: <span style=\"color: #008000; text-decoration-color: #008000\">'string'</span>\n",
       "        <span style=\"font-weight: bold\">}</span>,\n",
       "        <span style=\"font-weight: bold\">{</span>\n",
       "            <span style=\"color: #008000; text-decoration-color: #008000\">'id'</span>: <span style=\"color: #008000; text-decoration-color: #008000\">'ITEM_CONDITION'</span>,\n",
       "            <span style=\"color: #008000; text-decoration-color: #008000\">'name'</span>: <span style=\"color: #008000; text-decoration-color: #008000\">'Condição do item'</span>,\n",
       "            <span style=\"color: #008000; text-decoration-color: #008000\">'value_id'</span>: <span style=\"color: #008000; text-decoration-color: #008000\">'2230284'</span>,\n",
       "            <span style=\"color: #008000; text-decoration-color: #008000\">'value_name'</span>: <span style=\"color: #008000; text-decoration-color: #008000\">'Novo'</span>,\n",
       "            <span style=\"color: #008000; text-decoration-color: #008000\">'values'</span>: <span style=\"font-weight: bold\">[{</span><span style=\"color: #008000; text-decoration-color: #008000\">'id'</span>: <span style=\"color: #008000; text-decoration-color: #008000\">'2230284'</span>, <span style=\"color: #008000; text-decoration-color: #008000\">'name'</span>: <span style=\"color: #008000; text-decoration-color: #008000\">'Novo'</span>, <span style=\"color: #008000; text-decoration-color: #008000\">'struct'</span>: <span style=\"color: #800080; text-decoration-color: #800080; font-style: italic\">None</span><span style=\"font-weight: bold\">}]</span>,\n",
       "            <span style=\"color: #008000; text-decoration-color: #008000\">'value_type'</span>: <span style=\"color: #008000; text-decoration-color: #008000\">'list'</span>\n",
       "        <span style=\"font-weight: bold\">}</span>,\n",
       "        <span style=\"font-weight: bold\">{</span>\n",
       "            <span style=\"color: #008000; text-decoration-color: #008000\">'id'</span>: <span style=\"color: #008000; text-decoration-color: #008000\">'LENGTH'</span>,\n",
       "            <span style=\"color: #008000; text-decoration-color: #008000\">'name'</span>: <span style=\"color: #008000; text-decoration-color: #008000\">'Comprimento'</span>,\n",
       "            <span style=\"color: #008000; text-decoration-color: #008000\">'value_id'</span>: <span style=\"color: #800080; text-decoration-color: #800080; font-style: italic\">None</span>,\n",
       "            <span style=\"color: #008000; text-decoration-color: #008000\">'value_name'</span>: <span style=\"color: #008000; text-decoration-color: #008000\">'29 cm'</span>,\n",
       "            <span style=\"color: #008000; text-decoration-color: #008000\">'values'</span>: <span style=\"font-weight: bold\">[{</span><span style=\"color: #008000; text-decoration-color: #008000\">'id'</span>: <span style=\"color: #800080; text-decoration-color: #800080; font-style: italic\">None</span>, <span style=\"color: #008000; text-decoration-color: #008000\">'name'</span>: <span style=\"color: #008000; text-decoration-color: #008000\">'29 cm'</span>, <span style=\"color: #008000; text-decoration-color: #008000\">'struct'</span>: <span style=\"font-weight: bold\">{</span><span style=\"color: #008000; text-decoration-color: #008000\">'number'</span>: <span style=\"color: #008080; text-decoration-color: #008080; font-weight: bold\">29</span>, <span style=\"color: #008000; text-decoration-color: #008000\">'unit'</span>: <span style=\"color: #008000; text-decoration-color: #008000\">'cm'</span><span style=\"font-weight: bold\">}}]</span>,\n",
       "            <span style=\"color: #008000; text-decoration-color: #008000\">'value_type'</span>: <span style=\"color: #008000; text-decoration-color: #008000\">'number_unit'</span>\n",
       "        <span style=\"font-weight: bold\">}</span>,\n",
       "        <span style=\"font-weight: bold\">{</span>\n",
       "            <span style=\"color: #008000; text-decoration-color: #008000\">'id'</span>: <span style=\"color: #008000; text-decoration-color: #008000\">'MODEL'</span>,\n",
       "            <span style=\"color: #008000; text-decoration-color: #008000\">'name'</span>: <span style=\"color: #008000; text-decoration-color: #008000\">'Modelo'</span>,\n",
       "            <span style=\"color: #008000; text-decoration-color: #008000\">'value_id'</span>: <span style=\"color: #800080; text-decoration-color: #800080; font-style: italic\">None</span>,\n",
       "            <span style=\"color: #008000; text-decoration-color: #008000\">'value_name'</span>: <span style=\"color: #008000; text-decoration-color: #008000\">'BIELETA ESTABILIZADORA'</span>,\n",
       "            <span style=\"color: #008000; text-decoration-color: #008000\">'values'</span>: <span style=\"font-weight: bold\">[{</span><span style=\"color: #008000; text-decoration-color: #008000\">'id'</span>: <span style=\"color: #800080; text-decoration-color: #800080; font-style: italic\">None</span>, <span style=\"color: #008000; text-decoration-color: #008000\">'name'</span>: <span style=\"color: #008000; text-decoration-color: #008000\">'BIELETA ESTABILIZADORA'</span>, <span style=\"color: #008000; text-decoration-color: #008000\">'struct'</span>: <span style=\"color: #800080; text-decoration-color: #800080; font-style: italic\">None</span><span style=\"font-weight: bold\">}]</span>,\n",
       "            <span style=\"color: #008000; text-decoration-color: #008000\">'value_type'</span>: <span style=\"color: #008000; text-decoration-color: #008000\">'string'</span>\n",
       "        <span style=\"font-weight: bold\">}</span>,\n",
       "        <span style=\"font-weight: bold\">{</span><span style=\"color: #008000; text-decoration-color: #008000\">'id'</span>: <span style=\"color: #008000; text-decoration-color: #008000\">'MPN'</span>, <span style=\"color: #008000; text-decoration-color: #008000\">'name'</span>: <span style=\"color: #008000; text-decoration-color: #008000\">'MPN'</span>, <span style=\"color: #008000; text-decoration-color: #008000\">'value_name'</span>: <span style=\"color: #008000; text-decoration-color: #008000\">'LT60435'</span><span style=\"font-weight: bold\">}</span>,\n",
       "        <span style=\"font-weight: bold\">{</span><span style=\"color: #008000; text-decoration-color: #008000\">'id'</span>: <span style=\"color: #008000; text-decoration-color: #008000\">'OEM'</span>, <span style=\"color: #008000; text-decoration-color: #008000\">'name'</span>: <span style=\"color: #008000; text-decoration-color: #008000\">'Código OEM'</span>, <span style=\"color: #008000; text-decoration-color: #008000\">'value_name'</span>: <span style=\"color: #008000; text-decoration-color: #008000\">'None'</span><span style=\"font-weight: bold\">}</span>,\n",
       "        <span style=\"font-weight: bold\">{</span>\n",
       "            <span style=\"color: #008000; text-decoration-color: #008000\">'id'</span>: <span style=\"color: #008000; text-decoration-color: #008000\">'PACKAGE_HEIGHT'</span>,\n",
       "            <span style=\"color: #008000; text-decoration-color: #008000\">'name'</span>: <span style=\"color: #008000; text-decoration-color: #008000\">'Altura da embalagem'</span>,\n",
       "            <span style=\"color: #008000; text-decoration-color: #008000\">'value_id'</span>: <span style=\"color: #800080; text-decoration-color: #800080; font-style: italic\">None</span>,\n",
       "            <span style=\"color: #008000; text-decoration-color: #008000\">'value_name'</span>: <span style=\"color: #008000; text-decoration-color: #008000\">'11.5 cm'</span>,\n",
       "            <span style=\"color: #008000; text-decoration-color: #008000\">'values'</span>: <span style=\"font-weight: bold\">[{</span><span style=\"color: #008000; text-decoration-color: #008000\">'id'</span>: <span style=\"color: #800080; text-decoration-color: #800080; font-style: italic\">None</span>, <span style=\"color: #008000; text-decoration-color: #008000\">'name'</span>: <span style=\"color: #008000; text-decoration-color: #008000\">'11.5 cm'</span>, <span style=\"color: #008000; text-decoration-color: #008000\">'struct'</span>: <span style=\"font-weight: bold\">{</span><span style=\"color: #008000; text-decoration-color: #008000\">'number'</span>: <span style=\"color: #008080; text-decoration-color: #008080; font-weight: bold\">11.5</span>, <span style=\"color: #008000; text-decoration-color: #008000\">'unit'</span>: <span style=\"color: #008000; text-decoration-color: #008000\">'cm'</span><span style=\"font-weight: bold\">}}]</span>,\n",
       "            <span style=\"color: #008000; text-decoration-color: #008000\">'value_type'</span>: <span style=\"color: #008000; text-decoration-color: #008000\">'number_unit'</span>\n",
       "        <span style=\"font-weight: bold\">}</span>,\n",
       "        <span style=\"font-weight: bold\">{</span>\n",
       "            <span style=\"color: #008000; text-decoration-color: #008000\">'id'</span>: <span style=\"color: #008000; text-decoration-color: #008000\">'PACKAGE_LENGTH'</span>,\n",
       "            <span style=\"color: #008000; text-decoration-color: #008000\">'name'</span>: <span style=\"color: #008000; text-decoration-color: #008000\">'Comprimento da embalagem'</span>,\n",
       "            <span style=\"color: #008000; text-decoration-color: #008000\">'value_id'</span>: <span style=\"color: #800080; text-decoration-color: #800080; font-style: italic\">None</span>,\n",
       "            <span style=\"color: #008000; text-decoration-color: #008000\">'value_name'</span>: <span style=\"color: #008000; text-decoration-color: #008000\">'46.5 cm'</span>,\n",
       "            <span style=\"color: #008000; text-decoration-color: #008000\">'values'</span>: <span style=\"font-weight: bold\">[{</span><span style=\"color: #008000; text-decoration-color: #008000\">'id'</span>: <span style=\"color: #800080; text-decoration-color: #800080; font-style: italic\">None</span>, <span style=\"color: #008000; text-decoration-color: #008000\">'name'</span>: <span style=\"color: #008000; text-decoration-color: #008000\">'46.5 cm'</span>, <span style=\"color: #008000; text-decoration-color: #008000\">'struct'</span>: <span style=\"font-weight: bold\">{</span><span style=\"color: #008000; text-decoration-color: #008000\">'number'</span>: <span style=\"color: #008080; text-decoration-color: #008080; font-weight: bold\">46.5</span>, <span style=\"color: #008000; text-decoration-color: #008000\">'unit'</span>: <span style=\"color: #008000; text-decoration-color: #008000\">'cm'</span><span style=\"font-weight: bold\">}}]</span>,\n",
       "            <span style=\"color: #008000; text-decoration-color: #008000\">'value_type'</span>: <span style=\"color: #008000; text-decoration-color: #008000\">'number_unit'</span>\n",
       "        <span style=\"font-weight: bold\">}</span>,\n",
       "        <span style=\"font-weight: bold\">{</span>\n",
       "            <span style=\"color: #008000; text-decoration-color: #008000\">'id'</span>: <span style=\"color: #008000; text-decoration-color: #008000\">'PACKAGE_WEIGHT'</span>,\n",
       "            <span style=\"color: #008000; text-decoration-color: #008000\">'name'</span>: <span style=\"color: #008000; text-decoration-color: #008000\">'Peso da embalagem'</span>,\n",
       "            <span style=\"color: #008000; text-decoration-color: #008000\">'value_id'</span>: <span style=\"color: #800080; text-decoration-color: #800080; font-style: italic\">None</span>,\n",
       "            <span style=\"color: #008000; text-decoration-color: #008000\">'value_name'</span>: <span style=\"color: #008000; text-decoration-color: #008000\">'1070 g'</span>,\n",
       "            <span style=\"color: #008000; text-decoration-color: #008000\">'values'</span>: <span style=\"font-weight: bold\">[{</span><span style=\"color: #008000; text-decoration-color: #008000\">'id'</span>: <span style=\"color: #800080; text-decoration-color: #800080; font-style: italic\">None</span>, <span style=\"color: #008000; text-decoration-color: #008000\">'name'</span>: <span style=\"color: #008000; text-decoration-color: #008000\">'1070 g'</span>, <span style=\"color: #008000; text-decoration-color: #008000\">'struct'</span>: <span style=\"font-weight: bold\">{</span><span style=\"color: #008000; text-decoration-color: #008000\">'number'</span>: <span style=\"color: #008080; text-decoration-color: #008080; font-weight: bold\">1070</span>, <span style=\"color: #008000; text-decoration-color: #008000\">'unit'</span>: <span style=\"color: #008000; text-decoration-color: #008000\">'g'</span><span style=\"font-weight: bold\">}}]</span>,\n",
       "            <span style=\"color: #008000; text-decoration-color: #008000\">'value_type'</span>: <span style=\"color: #008000; text-decoration-color: #008000\">'number_unit'</span>\n",
       "        <span style=\"font-weight: bold\">}</span>,\n",
       "        <span style=\"font-weight: bold\">{</span>\n",
       "            <span style=\"color: #008000; text-decoration-color: #008000\">'id'</span>: <span style=\"color: #008000; text-decoration-color: #008000\">'PACKAGE_WIDTH'</span>,\n",
       "            <span style=\"color: #008000; text-decoration-color: #008000\">'name'</span>: <span style=\"color: #008000; text-decoration-color: #008000\">'Largura da embalagem'</span>,\n",
       "            <span style=\"color: #008000; text-decoration-color: #008000\">'value_id'</span>: <span style=\"color: #800080; text-decoration-color: #800080; font-style: italic\">None</span>,\n",
       "            <span style=\"color: #008000; text-decoration-color: #008000\">'value_name'</span>: <span style=\"color: #008000; text-decoration-color: #008000\">'15.5 cm'</span>,\n",
       "            <span style=\"color: #008000; text-decoration-color: #008000\">'values'</span>: <span style=\"font-weight: bold\">[{</span><span style=\"color: #008000; text-decoration-color: #008000\">'id'</span>: <span style=\"color: #800080; text-decoration-color: #800080; font-style: italic\">None</span>, <span style=\"color: #008000; text-decoration-color: #008000\">'name'</span>: <span style=\"color: #008000; text-decoration-color: #008000\">'15.5 cm'</span>, <span style=\"color: #008000; text-decoration-color: #008000\">'struct'</span>: <span style=\"font-weight: bold\">{</span><span style=\"color: #008000; text-decoration-color: #008000\">'number'</span>: <span style=\"color: #008080; text-decoration-color: #008080; font-weight: bold\">15.5</span>, <span style=\"color: #008000; text-decoration-color: #008000\">'unit'</span>: <span style=\"color: #008000; text-decoration-color: #008000\">'cm'</span><span style=\"font-weight: bold\">}}]</span>,\n",
       "            <span style=\"color: #008000; text-decoration-color: #008000\">'value_type'</span>: <span style=\"color: #008000; text-decoration-color: #008000\">'number_unit'</span>\n",
       "        <span style=\"font-weight: bold\">}</span>,\n",
       "        <span style=\"font-weight: bold\">{</span><span style=\"color: #008000; text-decoration-color: #008000\">'id'</span>: <span style=\"color: #008000; text-decoration-color: #008000\">'PART_NUMBER'</span>, <span style=\"color: #008000; text-decoration-color: #008000\">'name'</span>: <span style=\"color: #008000; text-decoration-color: #008000\">'Número de peça'</span>, <span style=\"color: #008000; text-decoration-color: #008000\">'value_name'</span>: <span style=\"color: #008000; text-decoration-color: #008000\">'LT60435'</span><span style=\"font-weight: bold\">}</span>,\n",
       "        <span style=\"font-weight: bold\">{</span>\n",
       "            <span style=\"color: #008000; text-decoration-color: #008000\">'id'</span>: <span style=\"color: #008000; text-decoration-color: #008000\">'POSITION'</span>,\n",
       "            <span style=\"color: #008000; text-decoration-color: #008000\">'name'</span>: <span style=\"color: #008000; text-decoration-color: #008000\">'Posição'</span>,\n",
       "            <span style=\"color: #008000; text-decoration-color: #008000\">'value_id'</span>: <span style=\"color: #008000; text-decoration-color: #008000\">'13701104'</span>,\n",
       "            <span style=\"color: #008000; text-decoration-color: #008000\">'value_name'</span>: <span style=\"color: #008000; text-decoration-color: #008000\">'Dianteira'</span>,\n",
       "            <span style=\"color: #008000; text-decoration-color: #008000\">'values'</span>: <span style=\"font-weight: bold\">[{</span><span style=\"color: #008000; text-decoration-color: #008000\">'id'</span>: <span style=\"color: #008000; text-decoration-color: #008000\">'13701104'</span>, <span style=\"color: #008000; text-decoration-color: #008000\">'name'</span>: <span style=\"color: #008000; text-decoration-color: #008000\">'Dianteira'</span>, <span style=\"color: #008000; text-decoration-color: #008000\">'struct'</span>: <span style=\"color: #800080; text-decoration-color: #800080; font-style: italic\">None</span><span style=\"font-weight: bold\">}]</span>,\n",
       "            <span style=\"color: #008000; text-decoration-color: #008000\">'value_type'</span>: <span style=\"color: #008000; text-decoration-color: #008000\">'list'</span>\n",
       "        <span style=\"font-weight: bold\">}</span>,\n",
       "        <span style=\"font-weight: bold\">{</span>\n",
       "            <span style=\"color: #008000; text-decoration-color: #008000\">'id'</span>: <span style=\"color: #008000; text-decoration-color: #008000\">'PRODUCT_FEATURES'</span>,\n",
       "            <span style=\"color: #008000; text-decoration-color: #008000\">'name'</span>: <span style=\"color: #008000; text-decoration-color: #008000\">'Características do produto'</span>,\n",
       "            <span style=\"color: #008000; text-decoration-color: #008000\">'value_id'</span>: <span style=\"color: #008000; text-decoration-color: #008000\">'8847339'</span>,\n",
       "            <span style=\"color: #008000; text-decoration-color: #008000\">'value_name'</span>: <span style=\"color: #008000; text-decoration-color: #008000\">'Sem validade'</span>,\n",
       "            <span style=\"color: #008000; text-decoration-color: #008000\">'values'</span>: <span style=\"font-weight: bold\">[{</span><span style=\"color: #008000; text-decoration-color: #008000\">'id'</span>: <span style=\"color: #008000; text-decoration-color: #008000\">'8847339'</span>, <span style=\"color: #008000; text-decoration-color: #008000\">'name'</span>: <span style=\"color: #008000; text-decoration-color: #008000\">'Sem validade'</span>, <span style=\"color: #008000; text-decoration-color: #008000\">'struct'</span>: <span style=\"color: #800080; text-decoration-color: #800080; font-style: italic\">None</span><span style=\"font-weight: bold\">}]</span>,\n",
       "            <span style=\"color: #008000; text-decoration-color: #008000\">'value_type'</span>: <span style=\"color: #008000; text-decoration-color: #008000\">'list'</span>\n",
       "        <span style=\"font-weight: bold\">}</span>,\n",
       "        <span style=\"font-weight: bold\">{</span><span style=\"color: #008000; text-decoration-color: #008000\">'id'</span>: <span style=\"color: #008000; text-decoration-color: #008000\">'SELLER_SKU'</span>, <span style=\"color: #008000; text-decoration-color: #008000\">'name'</span>: <span style=\"color: #008000; text-decoration-color: #008000\">'SKU'</span>, <span style=\"color: #008000; text-decoration-color: #008000\">'value_name'</span>: <span style=\"color: #008000; text-decoration-color: #008000\">'K_087449_087450'</span><span style=\"font-weight: bold\">}</span>,\n",
       "        <span style=\"font-weight: bold\">{</span>\n",
       "            <span style=\"color: #008000; text-decoration-color: #008000\">'id'</span>: <span style=\"color: #008000; text-decoration-color: #008000\">'SHIPMENT_PACKING'</span>,\n",
       "            <span style=\"color: #008000; text-decoration-color: #008000\">'name'</span>: <span style=\"color: #008000; text-decoration-color: #008000\">'Embalagem do envío'</span>,\n",
       "            <span style=\"color: #008000; text-decoration-color: #008000\">'value_id'</span>: <span style=\"color: #008000; text-decoration-color: #008000\">'7435892'</span>,\n",
       "            <span style=\"color: #008000; text-decoration-color: #008000\">'value_name'</span>: <span style=\"color: #008000; text-decoration-color: #008000\">'Caixa'</span>,\n",
       "            <span style=\"color: #008000; text-decoration-color: #008000\">'values'</span>: <span style=\"font-weight: bold\">[{</span><span style=\"color: #008000; text-decoration-color: #008000\">'id'</span>: <span style=\"color: #008000; text-decoration-color: #008000\">'7435892'</span>, <span style=\"color: #008000; text-decoration-color: #008000\">'name'</span>: <span style=\"color: #008000; text-decoration-color: #008000\">'Caixa'</span>, <span style=\"color: #008000; text-decoration-color: #008000\">'struct'</span>: <span style=\"color: #800080; text-decoration-color: #800080; font-style: italic\">None</span><span style=\"font-weight: bold\">}]</span>,\n",
       "            <span style=\"color: #008000; text-decoration-color: #008000\">'value_type'</span>: <span style=\"color: #008000; text-decoration-color: #008000\">'list'</span>\n",
       "        <span style=\"font-weight: bold\">}</span>,\n",
       "        <span style=\"font-weight: bold\">{</span>\n",
       "            <span style=\"color: #008000; text-decoration-color: #008000\">'id'</span>: <span style=\"color: #008000; text-decoration-color: #008000\">'SIDE'</span>,\n",
       "            <span style=\"color: #008000; text-decoration-color: #008000\">'name'</span>: <span style=\"color: #008000; text-decoration-color: #008000\">'Lado'</span>,\n",
       "            <span style=\"color: #008000; text-decoration-color: #008000\">'value_id'</span>: <span style=\"color: #008000; text-decoration-color: #008000\">'-1'</span>,\n",
       "            <span style=\"color: #008000; text-decoration-color: #008000\">'value_name'</span>: <span style=\"color: #800080; text-decoration-color: #800080; font-style: italic\">None</span>,\n",
       "            <span style=\"color: #008000; text-decoration-color: #008000\">'values'</span>: <span style=\"font-weight: bold\">[{</span><span style=\"color: #008000; text-decoration-color: #008000\">'id'</span>: <span style=\"color: #008000; text-decoration-color: #008000\">'-1'</span>, <span style=\"color: #008000; text-decoration-color: #008000\">'name'</span>: <span style=\"color: #800080; text-decoration-color: #800080; font-style: italic\">None</span>, <span style=\"color: #008000; text-decoration-color: #008000\">'struct'</span>: <span style=\"color: #800080; text-decoration-color: #800080; font-style: italic\">None</span><span style=\"font-weight: bold\">}]</span>,\n",
       "            <span style=\"color: #008000; text-decoration-color: #008000\">'value_type'</span>: <span style=\"color: #008000; text-decoration-color: #008000\">'list'</span>\n",
       "        <span style=\"font-weight: bold\">}</span>,\n",
       "        <span style=\"font-weight: bold\">{</span>\n",
       "            <span style=\"color: #008000; text-decoration-color: #008000\">'id'</span>: <span style=\"color: #008000; text-decoration-color: #008000\">'UNITS_PER_PACK'</span>,\n",
       "            <span style=\"color: #008000; text-decoration-color: #008000\">'name'</span>: <span style=\"color: #008000; text-decoration-color: #008000\">'Unidades por kit'</span>,\n",
       "            <span style=\"color: #008000; text-decoration-color: #008000\">'value_id'</span>: <span style=\"color: #800080; text-decoration-color: #800080; font-style: italic\">None</span>,\n",
       "            <span style=\"color: #008000; text-decoration-color: #008000\">'value_name'</span>: <span style=\"color: #008000; text-decoration-color: #008000\">'2'</span>,\n",
       "            <span style=\"color: #008000; text-decoration-color: #008000\">'values'</span>: <span style=\"font-weight: bold\">[{</span><span style=\"color: #008000; text-decoration-color: #008000\">'id'</span>: <span style=\"color: #800080; text-decoration-color: #800080; font-style: italic\">None</span>, <span style=\"color: #008000; text-decoration-color: #008000\">'name'</span>: <span style=\"color: #008000; text-decoration-color: #008000\">'2'</span>, <span style=\"color: #008000; text-decoration-color: #008000\">'struct'</span>: <span style=\"color: #800080; text-decoration-color: #800080; font-style: italic\">None</span><span style=\"font-weight: bold\">}]</span>,\n",
       "            <span style=\"color: #008000; text-decoration-color: #008000\">'value_type'</span>: <span style=\"color: #008000; text-decoration-color: #008000\">'number'</span>\n",
       "        <span style=\"font-weight: bold\">}</span>,\n",
       "        <span style=\"font-weight: bold\">{</span>\n",
       "            <span style=\"color: #008000; text-decoration-color: #008000\">'id'</span>: <span style=\"color: #008000; text-decoration-color: #008000\">'VEHICLE_TYPE'</span>,\n",
       "            <span style=\"color: #008000; text-decoration-color: #008000\">'name'</span>: <span style=\"color: #008000; text-decoration-color: #008000\">'Tipo de veículo'</span>,\n",
       "            <span style=\"color: #008000; text-decoration-color: #008000\">'value_id'</span>: <span style=\"color: #008000; text-decoration-color: #008000\">'11377043'</span>,\n",
       "            <span style=\"color: #008000; text-decoration-color: #008000\">'value_name'</span>: <span style=\"color: #008000; text-decoration-color: #008000\">'Carro/Caminhonete'</span>,\n",
       "            <span style=\"color: #008000; text-decoration-color: #008000\">'values'</span>: <span style=\"font-weight: bold\">[{</span><span style=\"color: #008000; text-decoration-color: #008000\">'id'</span>: <span style=\"color: #008000; text-decoration-color: #008000\">'11377043'</span>, <span style=\"color: #008000; text-decoration-color: #008000\">'name'</span>: <span style=\"color: #008000; text-decoration-color: #008000\">'Carro/Caminhonete'</span>, <span style=\"color: #008000; text-decoration-color: #008000\">'struct'</span>: <span style=\"color: #800080; text-decoration-color: #800080; font-style: italic\">None</span><span style=\"font-weight: bold\">}]</span>,\n",
       "            <span style=\"color: #008000; text-decoration-color: #008000\">'value_type'</span>: <span style=\"color: #008000; text-decoration-color: #008000\">'list'</span>\n",
       "        <span style=\"font-weight: bold\">}</span>,\n",
       "        <span style=\"font-weight: bold\">{</span><span style=\"color: #008000; text-decoration-color: #008000\">'id'</span>: <span style=\"color: #008000; text-decoration-color: #008000\">'SELLER_SKU'</span>, <span style=\"color: #008000; text-decoration-color: #008000\">'name'</span>: <span style=\"color: #008000; text-decoration-color: #008000\">'SKU'</span>, <span style=\"color: #008000; text-decoration-color: #008000\">'value_name'</span>: <span style=\"color: #008000; text-decoration-color: #008000\">'K_087449_087450'</span><span style=\"font-weight: bold\">}</span>,\n",
       "        <span style=\"font-weight: bold\">{</span><span style=\"color: #008000; text-decoration-color: #008000\">'id'</span>: <span style=\"color: #008000; text-decoration-color: #008000\">'GTIN'</span>, <span style=\"color: #008000; text-decoration-color: #008000\">'name'</span>: <span style=\"color: #008000; text-decoration-color: #008000\">'Código universal de produto'</span>, <span style=\"color: #008000; text-decoration-color: #008000\">'value_name'</span>: <span style=\"color: #800080; text-decoration-color: #800080; font-style: italic\">None</span><span style=\"font-weight: bold\">}</span>\n",
       "    <span style=\"font-weight: bold\">]</span>,\n",
       "    <span style=\"color: #008000; text-decoration-color: #008000\">'variations'</span>: <span style=\"font-weight: bold\">[]</span>,\n",
       "    <span style=\"color: #008000; text-decoration-color: #008000\">'video_id'</span>: <span style=\"color: #008000; text-decoration-color: #008000\">'e4lB8zcfDt8'</span>\n",
       "<span style=\"font-weight: bold\">}</span>\n",
       "</pre>\n"
      ],
      "text/plain": [
       "\u001b[1m{\u001b[0m\n",
       "    \u001b[32m'title'\u001b[0m: \u001b[32m'Par Bieleta Estabilizadora Dianteira Bmw 318i 320i 05/11 E90'\u001b[0m,\n",
       "    \u001b[32m'category_id'\u001b[0m: \u001b[32m'MLB193476'\u001b[0m,\n",
       "    \u001b[32m'official_store_id'\u001b[0m: \u001b[1;36m5329\u001b[0m,\n",
       "    \u001b[32m'price'\u001b[0m: \u001b[1;36m51.92\u001b[0m,\n",
       "    \u001b[32m'available_quantity'\u001b[0m: \u001b[1;36m0\u001b[0m,\n",
       "    \u001b[32m'currency_id'\u001b[0m: \u001b[32m'BRL'\u001b[0m,\n",
       "    \u001b[32m'buying_mode'\u001b[0m: \u001b[32m'buy_it_now'\u001b[0m,\n",
       "    \u001b[32m'condition'\u001b[0m: \u001b[32m'new'\u001b[0m,\n",
       "    \u001b[32m'listing_type_id'\u001b[0m: \u001b[32m'gold_special'\u001b[0m,\n",
       "    \u001b[32m'sale_terms'\u001b[0m: \u001b[1m[\u001b[0m\n",
       "        \u001b[1m{\u001b[0m\n",
       "            \u001b[32m'id'\u001b[0m: \u001b[32m'WARRANTY_TYPE'\u001b[0m,\n",
       "            \u001b[32m'name'\u001b[0m: \u001b[32m'Tipo de garantia'\u001b[0m,\n",
       "            \u001b[32m'value_id'\u001b[0m: \u001b[32m'2230279'\u001b[0m,\n",
       "            \u001b[32m'value_name'\u001b[0m: \u001b[32m'Garantia de fábrica'\u001b[0m,\n",
       "            \u001b[32m'value_struct'\u001b[0m: \u001b[3;35mNone\u001b[0m,\n",
       "            \u001b[32m'values'\u001b[0m: \u001b[1m[\u001b[0m\u001b[1m{\u001b[0m\u001b[32m'id'\u001b[0m: \u001b[32m'2230279'\u001b[0m, \u001b[32m'name'\u001b[0m: \u001b[32m'Garantia de fábrica'\u001b[0m, \u001b[32m'struct'\u001b[0m: \u001b[3;35mNone\u001b[0m\u001b[1m}\u001b[0m\u001b[1m]\u001b[0m,\n",
       "            \u001b[32m'value_type'\u001b[0m: \u001b[32m'list'\u001b[0m\n",
       "        \u001b[1m}\u001b[0m,\n",
       "        \u001b[1m{\u001b[0m\n",
       "            \u001b[32m'id'\u001b[0m: \u001b[32m'WARRANTY_TIME'\u001b[0m,\n",
       "            \u001b[32m'name'\u001b[0m: \u001b[32m'Tempo de garantia'\u001b[0m,\n",
       "            \u001b[32m'value_id'\u001b[0m: \u001b[3;35mNone\u001b[0m,\n",
       "            \u001b[32m'value_name'\u001b[0m: \u001b[32m'3 meses'\u001b[0m,\n",
       "            \u001b[32m'value_struct'\u001b[0m: \u001b[1m{\u001b[0m\u001b[32m'number'\u001b[0m: \u001b[1;36m3\u001b[0m, \u001b[32m'unit'\u001b[0m: \u001b[32m'meses'\u001b[0m\u001b[1m}\u001b[0m,\n",
       "            \u001b[32m'values'\u001b[0m: \u001b[1m[\u001b[0m\u001b[1m{\u001b[0m\u001b[32m'id'\u001b[0m: \u001b[3;35mNone\u001b[0m, \u001b[32m'name'\u001b[0m: \u001b[32m'3 meses'\u001b[0m, \u001b[32m'struct'\u001b[0m: \u001b[1m{\u001b[0m\u001b[32m'number'\u001b[0m: \u001b[1;36m3\u001b[0m, \u001b[32m'unit'\u001b[0m: \u001b[32m'meses'\u001b[0m\u001b[1m}\u001b[0m\u001b[1m}\u001b[0m\u001b[1m]\u001b[0m,\n",
       "            \u001b[32m'value_type'\u001b[0m: \u001b[32m'number_unit'\u001b[0m\n",
       "        \u001b[1m}\u001b[0m\n",
       "    \u001b[1m]\u001b[0m,\n",
       "    \u001b[32m'pictures'\u001b[0m: \u001b[1m[\u001b[0m\u001b[1m{\u001b[0m\u001b[32m'id'\u001b[0m: \u001b[32m'890247-MLB77706886874_072024'\u001b[0m\u001b[1m}\u001b[0m\u001b[1m]\u001b[0m,\n",
       "    \u001b[32m'attributes'\u001b[0m: \u001b[1m[\u001b[0m\n",
       "        \u001b[1m{\u001b[0m\u001b[32m'id'\u001b[0m: \u001b[32m'BRAND'\u001b[0m, \u001b[32m'name'\u001b[0m: \u001b[32m'Marca'\u001b[0m, \u001b[32m'value_name'\u001b[0m: \u001b[32m'AXIOS'\u001b[0m\u001b[1m}\u001b[0m,\n",
       "        \u001b[1m{\u001b[0m\u001b[32m'id'\u001b[0m: \u001b[32m'GTIN'\u001b[0m, \u001b[32m'name'\u001b[0m: \u001b[32m'Código universal de produto'\u001b[0m, \u001b[32m'value_name'\u001b[0m: \u001b[3;35mNone\u001b[0m\u001b[1m}\u001b[0m,\n",
       "        \u001b[1m{\u001b[0m\n",
       "            \u001b[32m'id'\u001b[0m: \u001b[32m'INMETRO_CERTIFICATION_REGISTRATION_NUMBER'\u001b[0m,\n",
       "            \u001b[32m'name'\u001b[0m: \u001b[32m'Número de registro/certificação INMETRO'\u001b[0m,\n",
       "            \u001b[32m'value_id'\u001b[0m: \u001b[3;35mNone\u001b[0m,\n",
       "            \u001b[32m'value_name'\u001b[0m: \u001b[32m'LT60435 / LT60436'\u001b[0m,\n",
       "            \u001b[32m'values'\u001b[0m: \u001b[1m[\u001b[0m\u001b[1m{\u001b[0m\u001b[32m'id'\u001b[0m: \u001b[3;35mNone\u001b[0m, \u001b[32m'name'\u001b[0m: \u001b[32m'LT60435 / LT60436'\u001b[0m, \u001b[32m'struct'\u001b[0m: \u001b[3;35mNone\u001b[0m\u001b[1m}\u001b[0m\u001b[1m]\u001b[0m,\n",
       "            \u001b[32m'value_type'\u001b[0m: \u001b[32m'string'\u001b[0m\n",
       "        \u001b[1m}\u001b[0m,\n",
       "        \u001b[1m{\u001b[0m\n",
       "            \u001b[32m'id'\u001b[0m: \u001b[32m'ITEM_CONDITION'\u001b[0m,\n",
       "            \u001b[32m'name'\u001b[0m: \u001b[32m'Condição do item'\u001b[0m,\n",
       "            \u001b[32m'value_id'\u001b[0m: \u001b[32m'2230284'\u001b[0m,\n",
       "            \u001b[32m'value_name'\u001b[0m: \u001b[32m'Novo'\u001b[0m,\n",
       "            \u001b[32m'values'\u001b[0m: \u001b[1m[\u001b[0m\u001b[1m{\u001b[0m\u001b[32m'id'\u001b[0m: \u001b[32m'2230284'\u001b[0m, \u001b[32m'name'\u001b[0m: \u001b[32m'Novo'\u001b[0m, \u001b[32m'struct'\u001b[0m: \u001b[3;35mNone\u001b[0m\u001b[1m}\u001b[0m\u001b[1m]\u001b[0m,\n",
       "            \u001b[32m'value_type'\u001b[0m: \u001b[32m'list'\u001b[0m\n",
       "        \u001b[1m}\u001b[0m,\n",
       "        \u001b[1m{\u001b[0m\n",
       "            \u001b[32m'id'\u001b[0m: \u001b[32m'LENGTH'\u001b[0m,\n",
       "            \u001b[32m'name'\u001b[0m: \u001b[32m'Comprimento'\u001b[0m,\n",
       "            \u001b[32m'value_id'\u001b[0m: \u001b[3;35mNone\u001b[0m,\n",
       "            \u001b[32m'value_name'\u001b[0m: \u001b[32m'29 cm'\u001b[0m,\n",
       "            \u001b[32m'values'\u001b[0m: \u001b[1m[\u001b[0m\u001b[1m{\u001b[0m\u001b[32m'id'\u001b[0m: \u001b[3;35mNone\u001b[0m, \u001b[32m'name'\u001b[0m: \u001b[32m'29 cm'\u001b[0m, \u001b[32m'struct'\u001b[0m: \u001b[1m{\u001b[0m\u001b[32m'number'\u001b[0m: \u001b[1;36m29\u001b[0m, \u001b[32m'unit'\u001b[0m: \u001b[32m'cm'\u001b[0m\u001b[1m}\u001b[0m\u001b[1m}\u001b[0m\u001b[1m]\u001b[0m,\n",
       "            \u001b[32m'value_type'\u001b[0m: \u001b[32m'number_unit'\u001b[0m\n",
       "        \u001b[1m}\u001b[0m,\n",
       "        \u001b[1m{\u001b[0m\n",
       "            \u001b[32m'id'\u001b[0m: \u001b[32m'MODEL'\u001b[0m,\n",
       "            \u001b[32m'name'\u001b[0m: \u001b[32m'Modelo'\u001b[0m,\n",
       "            \u001b[32m'value_id'\u001b[0m: \u001b[3;35mNone\u001b[0m,\n",
       "            \u001b[32m'value_name'\u001b[0m: \u001b[32m'BIELETA ESTABILIZADORA'\u001b[0m,\n",
       "            \u001b[32m'values'\u001b[0m: \u001b[1m[\u001b[0m\u001b[1m{\u001b[0m\u001b[32m'id'\u001b[0m: \u001b[3;35mNone\u001b[0m, \u001b[32m'name'\u001b[0m: \u001b[32m'BIELETA ESTABILIZADORA'\u001b[0m, \u001b[32m'struct'\u001b[0m: \u001b[3;35mNone\u001b[0m\u001b[1m}\u001b[0m\u001b[1m]\u001b[0m,\n",
       "            \u001b[32m'value_type'\u001b[0m: \u001b[32m'string'\u001b[0m\n",
       "        \u001b[1m}\u001b[0m,\n",
       "        \u001b[1m{\u001b[0m\u001b[32m'id'\u001b[0m: \u001b[32m'MPN'\u001b[0m, \u001b[32m'name'\u001b[0m: \u001b[32m'MPN'\u001b[0m, \u001b[32m'value_name'\u001b[0m: \u001b[32m'LT60435'\u001b[0m\u001b[1m}\u001b[0m,\n",
       "        \u001b[1m{\u001b[0m\u001b[32m'id'\u001b[0m: \u001b[32m'OEM'\u001b[0m, \u001b[32m'name'\u001b[0m: \u001b[32m'Código OEM'\u001b[0m, \u001b[32m'value_name'\u001b[0m: \u001b[32m'None'\u001b[0m\u001b[1m}\u001b[0m,\n",
       "        \u001b[1m{\u001b[0m\n",
       "            \u001b[32m'id'\u001b[0m: \u001b[32m'PACKAGE_HEIGHT'\u001b[0m,\n",
       "            \u001b[32m'name'\u001b[0m: \u001b[32m'Altura da embalagem'\u001b[0m,\n",
       "            \u001b[32m'value_id'\u001b[0m: \u001b[3;35mNone\u001b[0m,\n",
       "            \u001b[32m'value_name'\u001b[0m: \u001b[32m'11.5 cm'\u001b[0m,\n",
       "            \u001b[32m'values'\u001b[0m: \u001b[1m[\u001b[0m\u001b[1m{\u001b[0m\u001b[32m'id'\u001b[0m: \u001b[3;35mNone\u001b[0m, \u001b[32m'name'\u001b[0m: \u001b[32m'11.5 cm'\u001b[0m, \u001b[32m'struct'\u001b[0m: \u001b[1m{\u001b[0m\u001b[32m'number'\u001b[0m: \u001b[1;36m11.5\u001b[0m, \u001b[32m'unit'\u001b[0m: \u001b[32m'cm'\u001b[0m\u001b[1m}\u001b[0m\u001b[1m}\u001b[0m\u001b[1m]\u001b[0m,\n",
       "            \u001b[32m'value_type'\u001b[0m: \u001b[32m'number_unit'\u001b[0m\n",
       "        \u001b[1m}\u001b[0m,\n",
       "        \u001b[1m{\u001b[0m\n",
       "            \u001b[32m'id'\u001b[0m: \u001b[32m'PACKAGE_LENGTH'\u001b[0m,\n",
       "            \u001b[32m'name'\u001b[0m: \u001b[32m'Comprimento da embalagem'\u001b[0m,\n",
       "            \u001b[32m'value_id'\u001b[0m: \u001b[3;35mNone\u001b[0m,\n",
       "            \u001b[32m'value_name'\u001b[0m: \u001b[32m'46.5 cm'\u001b[0m,\n",
       "            \u001b[32m'values'\u001b[0m: \u001b[1m[\u001b[0m\u001b[1m{\u001b[0m\u001b[32m'id'\u001b[0m: \u001b[3;35mNone\u001b[0m, \u001b[32m'name'\u001b[0m: \u001b[32m'46.5 cm'\u001b[0m, \u001b[32m'struct'\u001b[0m: \u001b[1m{\u001b[0m\u001b[32m'number'\u001b[0m: \u001b[1;36m46.5\u001b[0m, \u001b[32m'unit'\u001b[0m: \u001b[32m'cm'\u001b[0m\u001b[1m}\u001b[0m\u001b[1m}\u001b[0m\u001b[1m]\u001b[0m,\n",
       "            \u001b[32m'value_type'\u001b[0m: \u001b[32m'number_unit'\u001b[0m\n",
       "        \u001b[1m}\u001b[0m,\n",
       "        \u001b[1m{\u001b[0m\n",
       "            \u001b[32m'id'\u001b[0m: \u001b[32m'PACKAGE_WEIGHT'\u001b[0m,\n",
       "            \u001b[32m'name'\u001b[0m: \u001b[32m'Peso da embalagem'\u001b[0m,\n",
       "            \u001b[32m'value_id'\u001b[0m: \u001b[3;35mNone\u001b[0m,\n",
       "            \u001b[32m'value_name'\u001b[0m: \u001b[32m'1070 g'\u001b[0m,\n",
       "            \u001b[32m'values'\u001b[0m: \u001b[1m[\u001b[0m\u001b[1m{\u001b[0m\u001b[32m'id'\u001b[0m: \u001b[3;35mNone\u001b[0m, \u001b[32m'name'\u001b[0m: \u001b[32m'1070 g'\u001b[0m, \u001b[32m'struct'\u001b[0m: \u001b[1m{\u001b[0m\u001b[32m'number'\u001b[0m: \u001b[1;36m1070\u001b[0m, \u001b[32m'unit'\u001b[0m: \u001b[32m'g'\u001b[0m\u001b[1m}\u001b[0m\u001b[1m}\u001b[0m\u001b[1m]\u001b[0m,\n",
       "            \u001b[32m'value_type'\u001b[0m: \u001b[32m'number_unit'\u001b[0m\n",
       "        \u001b[1m}\u001b[0m,\n",
       "        \u001b[1m{\u001b[0m\n",
       "            \u001b[32m'id'\u001b[0m: \u001b[32m'PACKAGE_WIDTH'\u001b[0m,\n",
       "            \u001b[32m'name'\u001b[0m: \u001b[32m'Largura da embalagem'\u001b[0m,\n",
       "            \u001b[32m'value_id'\u001b[0m: \u001b[3;35mNone\u001b[0m,\n",
       "            \u001b[32m'value_name'\u001b[0m: \u001b[32m'15.5 cm'\u001b[0m,\n",
       "            \u001b[32m'values'\u001b[0m: \u001b[1m[\u001b[0m\u001b[1m{\u001b[0m\u001b[32m'id'\u001b[0m: \u001b[3;35mNone\u001b[0m, \u001b[32m'name'\u001b[0m: \u001b[32m'15.5 cm'\u001b[0m, \u001b[32m'struct'\u001b[0m: \u001b[1m{\u001b[0m\u001b[32m'number'\u001b[0m: \u001b[1;36m15.5\u001b[0m, \u001b[32m'unit'\u001b[0m: \u001b[32m'cm'\u001b[0m\u001b[1m}\u001b[0m\u001b[1m}\u001b[0m\u001b[1m]\u001b[0m,\n",
       "            \u001b[32m'value_type'\u001b[0m: \u001b[32m'number_unit'\u001b[0m\n",
       "        \u001b[1m}\u001b[0m,\n",
       "        \u001b[1m{\u001b[0m\u001b[32m'id'\u001b[0m: \u001b[32m'PART_NUMBER'\u001b[0m, \u001b[32m'name'\u001b[0m: \u001b[32m'Número de peça'\u001b[0m, \u001b[32m'value_name'\u001b[0m: \u001b[32m'LT60435'\u001b[0m\u001b[1m}\u001b[0m,\n",
       "        \u001b[1m{\u001b[0m\n",
       "            \u001b[32m'id'\u001b[0m: \u001b[32m'POSITION'\u001b[0m,\n",
       "            \u001b[32m'name'\u001b[0m: \u001b[32m'Posição'\u001b[0m,\n",
       "            \u001b[32m'value_id'\u001b[0m: \u001b[32m'13701104'\u001b[0m,\n",
       "            \u001b[32m'value_name'\u001b[0m: \u001b[32m'Dianteira'\u001b[0m,\n",
       "            \u001b[32m'values'\u001b[0m: \u001b[1m[\u001b[0m\u001b[1m{\u001b[0m\u001b[32m'id'\u001b[0m: \u001b[32m'13701104'\u001b[0m, \u001b[32m'name'\u001b[0m: \u001b[32m'Dianteira'\u001b[0m, \u001b[32m'struct'\u001b[0m: \u001b[3;35mNone\u001b[0m\u001b[1m}\u001b[0m\u001b[1m]\u001b[0m,\n",
       "            \u001b[32m'value_type'\u001b[0m: \u001b[32m'list'\u001b[0m\n",
       "        \u001b[1m}\u001b[0m,\n",
       "        \u001b[1m{\u001b[0m\n",
       "            \u001b[32m'id'\u001b[0m: \u001b[32m'PRODUCT_FEATURES'\u001b[0m,\n",
       "            \u001b[32m'name'\u001b[0m: \u001b[32m'Características do produto'\u001b[0m,\n",
       "            \u001b[32m'value_id'\u001b[0m: \u001b[32m'8847339'\u001b[0m,\n",
       "            \u001b[32m'value_name'\u001b[0m: \u001b[32m'Sem validade'\u001b[0m,\n",
       "            \u001b[32m'values'\u001b[0m: \u001b[1m[\u001b[0m\u001b[1m{\u001b[0m\u001b[32m'id'\u001b[0m: \u001b[32m'8847339'\u001b[0m, \u001b[32m'name'\u001b[0m: \u001b[32m'Sem validade'\u001b[0m, \u001b[32m'struct'\u001b[0m: \u001b[3;35mNone\u001b[0m\u001b[1m}\u001b[0m\u001b[1m]\u001b[0m,\n",
       "            \u001b[32m'value_type'\u001b[0m: \u001b[32m'list'\u001b[0m\n",
       "        \u001b[1m}\u001b[0m,\n",
       "        \u001b[1m{\u001b[0m\u001b[32m'id'\u001b[0m: \u001b[32m'SELLER_SKU'\u001b[0m, \u001b[32m'name'\u001b[0m: \u001b[32m'SKU'\u001b[0m, \u001b[32m'value_name'\u001b[0m: \u001b[32m'K_087449_087450'\u001b[0m\u001b[1m}\u001b[0m,\n",
       "        \u001b[1m{\u001b[0m\n",
       "            \u001b[32m'id'\u001b[0m: \u001b[32m'SHIPMENT_PACKING'\u001b[0m,\n",
       "            \u001b[32m'name'\u001b[0m: \u001b[32m'Embalagem do envío'\u001b[0m,\n",
       "            \u001b[32m'value_id'\u001b[0m: \u001b[32m'7435892'\u001b[0m,\n",
       "            \u001b[32m'value_name'\u001b[0m: \u001b[32m'Caixa'\u001b[0m,\n",
       "            \u001b[32m'values'\u001b[0m: \u001b[1m[\u001b[0m\u001b[1m{\u001b[0m\u001b[32m'id'\u001b[0m: \u001b[32m'7435892'\u001b[0m, \u001b[32m'name'\u001b[0m: \u001b[32m'Caixa'\u001b[0m, \u001b[32m'struct'\u001b[0m: \u001b[3;35mNone\u001b[0m\u001b[1m}\u001b[0m\u001b[1m]\u001b[0m,\n",
       "            \u001b[32m'value_type'\u001b[0m: \u001b[32m'list'\u001b[0m\n",
       "        \u001b[1m}\u001b[0m,\n",
       "        \u001b[1m{\u001b[0m\n",
       "            \u001b[32m'id'\u001b[0m: \u001b[32m'SIDE'\u001b[0m,\n",
       "            \u001b[32m'name'\u001b[0m: \u001b[32m'Lado'\u001b[0m,\n",
       "            \u001b[32m'value_id'\u001b[0m: \u001b[32m'-1'\u001b[0m,\n",
       "            \u001b[32m'value_name'\u001b[0m: \u001b[3;35mNone\u001b[0m,\n",
       "            \u001b[32m'values'\u001b[0m: \u001b[1m[\u001b[0m\u001b[1m{\u001b[0m\u001b[32m'id'\u001b[0m: \u001b[32m'-1'\u001b[0m, \u001b[32m'name'\u001b[0m: \u001b[3;35mNone\u001b[0m, \u001b[32m'struct'\u001b[0m: \u001b[3;35mNone\u001b[0m\u001b[1m}\u001b[0m\u001b[1m]\u001b[0m,\n",
       "            \u001b[32m'value_type'\u001b[0m: \u001b[32m'list'\u001b[0m\n",
       "        \u001b[1m}\u001b[0m,\n",
       "        \u001b[1m{\u001b[0m\n",
       "            \u001b[32m'id'\u001b[0m: \u001b[32m'UNITS_PER_PACK'\u001b[0m,\n",
       "            \u001b[32m'name'\u001b[0m: \u001b[32m'Unidades por kit'\u001b[0m,\n",
       "            \u001b[32m'value_id'\u001b[0m: \u001b[3;35mNone\u001b[0m,\n",
       "            \u001b[32m'value_name'\u001b[0m: \u001b[32m'2'\u001b[0m,\n",
       "            \u001b[32m'values'\u001b[0m: \u001b[1m[\u001b[0m\u001b[1m{\u001b[0m\u001b[32m'id'\u001b[0m: \u001b[3;35mNone\u001b[0m, \u001b[32m'name'\u001b[0m: \u001b[32m'2'\u001b[0m, \u001b[32m'struct'\u001b[0m: \u001b[3;35mNone\u001b[0m\u001b[1m}\u001b[0m\u001b[1m]\u001b[0m,\n",
       "            \u001b[32m'value_type'\u001b[0m: \u001b[32m'number'\u001b[0m\n",
       "        \u001b[1m}\u001b[0m,\n",
       "        \u001b[1m{\u001b[0m\n",
       "            \u001b[32m'id'\u001b[0m: \u001b[32m'VEHICLE_TYPE'\u001b[0m,\n",
       "            \u001b[32m'name'\u001b[0m: \u001b[32m'Tipo de veículo'\u001b[0m,\n",
       "            \u001b[32m'value_id'\u001b[0m: \u001b[32m'11377043'\u001b[0m,\n",
       "            \u001b[32m'value_name'\u001b[0m: \u001b[32m'Carro/Caminhonete'\u001b[0m,\n",
       "            \u001b[32m'values'\u001b[0m: \u001b[1m[\u001b[0m\u001b[1m{\u001b[0m\u001b[32m'id'\u001b[0m: \u001b[32m'11377043'\u001b[0m, \u001b[32m'name'\u001b[0m: \u001b[32m'Carro/Caminhonete'\u001b[0m, \u001b[32m'struct'\u001b[0m: \u001b[3;35mNone\u001b[0m\u001b[1m}\u001b[0m\u001b[1m]\u001b[0m,\n",
       "            \u001b[32m'value_type'\u001b[0m: \u001b[32m'list'\u001b[0m\n",
       "        \u001b[1m}\u001b[0m,\n",
       "        \u001b[1m{\u001b[0m\u001b[32m'id'\u001b[0m: \u001b[32m'SELLER_SKU'\u001b[0m, \u001b[32m'name'\u001b[0m: \u001b[32m'SKU'\u001b[0m, \u001b[32m'value_name'\u001b[0m: \u001b[32m'K_087449_087450'\u001b[0m\u001b[1m}\u001b[0m,\n",
       "        \u001b[1m{\u001b[0m\u001b[32m'id'\u001b[0m: \u001b[32m'GTIN'\u001b[0m, \u001b[32m'name'\u001b[0m: \u001b[32m'Código universal de produto'\u001b[0m, \u001b[32m'value_name'\u001b[0m: \u001b[3;35mNone\u001b[0m\u001b[1m}\u001b[0m\n",
       "    \u001b[1m]\u001b[0m,\n",
       "    \u001b[32m'variations'\u001b[0m: \u001b[1m[\u001b[0m\u001b[1m]\u001b[0m,\n",
       "    \u001b[32m'video_id'\u001b[0m: \u001b[32m'e4lB8zcfDt8'\u001b[0m\n",
       "\u001b[1m}\u001b[0m\n"
      ]
     },
     "metadata": {},
     "output_type": "display_data"
    }
   ],
   "source": [
    "pprint(corpo_cadastro)"
   ]
  }
 ],
 "metadata": {
  "kernelspec": {
   "display_name": ".venv",
   "language": "python",
   "name": "python3"
  },
  "language_info": {
   "codemirror_mode": {
    "name": "ipython",
    "version": 3
   },
   "file_extension": ".py",
   "mimetype": "text/x-python",
   "name": "python",
   "nbconvert_exporter": "python",
   "pygments_lexer": "ipython3",
   "version": "3.12.4"
  }
 },
 "nbformat": 4,
 "nbformat_minor": 2
}
